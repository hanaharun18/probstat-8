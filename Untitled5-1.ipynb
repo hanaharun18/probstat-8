{
 "cells": [
  {
   "cell_type": "code",
   "execution_count": 1,
   "id": "1dfab776-8c8e-4cdf-a9bf-9e51bfb884cd",
   "metadata": {},
   "outputs": [
    {
     "name": "stdout",
     "output_type": "stream",
     "text": [
      "Rata-rata tinggi: 169.50 cm\n",
      "CI 95%: (167.33 cm, 171.67 cm)\n"
     ]
    }
   ],
   "source": [
    "# Hana Zalfa Azizah - 064102400007\n",
    "import numpy as np\n",
    "from scipy.stats import t\n",
    "\n",
    "# Data tinggi badan\n",
    "data = [167, 170, 172, 165, 169, 171, 168, 174, 166, 173]\n",
    "confidence = 0.95\n",
    "\n",
    "n = len(data)\n",
    "mean = np.mean(data)\n",
    "std_dev = np.std(data, ddof=1)\n",
    "stderr = std_dev / np.sqrt(n)\n",
    "\n",
    "t_score = t.ppf((1 + confidence) / 2, df=n-1)\n",
    "margin_error = t_score * stderr\n",
    "\n",
    "ci_lower = mean - margin_error\n",
    "ci_upper = mean + margin_error\n",
    "\n",
    "print(f\"Rata-rata tinggi: {mean:.2f} cm\")\n",
    "print(f\"CI 95%: ({ci_lower:.2f} cm, {ci_upper:.2f} cm)\")"
   ]
  },
  {
   "cell_type": "code",
   "execution_count": 3,
   "id": "6bd2e58c-94c5-4369-b807-de47535d5c2f",
   "metadata": {},
   "outputs": [
    {
     "name": "stdout",
     "output_type": "stream",
     "text": [
      "Proporsi Sampel (p̂): 0.760\n",
      "Z Kritis: 1.960\n",
      "Margin of Error: 0.068\n",
      "Confidence Interval 95%: (0.692, 0.828)\n"
     ]
    }
   ],
   "source": [
    "# Hana Zalfa Azizah - 064102400007\n",
    "import math\n",
    "from scipy.stats import norm\n",
    "\n",
    "# Data\n",
    "n = 150  # jumlah responden\n",
    "x = 114  # jumlah \"Puas\" (x)\n",
    "p_hat = x / n  # proporsi sampel\n",
    "confidence = 0.95\n",
    "alpha = 1 - confidence\n",
    "\n",
    "# Z-score (Z kritis) untuk untrusted confidence level 95%\n",
    "z = norm.ppf(1 - alpha/2)\n",
    "\n",
    "# Margin of Error\n",
    "ME = z * math.sqrt(p_hat * (1 - p_hat) / n)\n",
    "\n",
    "# Confidence Interval\n",
    "lower = p_hat - ME\n",
    "upper = p_hat + ME\n",
    "\n",
    "# Output\n",
    "print(f\"Proporsi Sampel (p̂): {p_hat:.3f}\")\n",
    "print(f\"Z Kritis: {z:.3f}\")\n",
    "print(f\"Margin of Error: {ME:.3f}\")\n",
    "print(f\"Confidence Interval 95%: ({lower:.3f}, {upper:.3f})\")\n"
   ]
  },
  {
   "cell_type": "code",
   "execution_count": null,
   "id": "96df434d-6efc-490d-affa-73af9fb7c28a",
   "metadata": {},
   "outputs": [],
   "source": []
  }
 ],
 "metadata": {
  "kernelspec": {
   "display_name": "Python [conda env:base] *",
   "language": "python",
   "name": "conda-base-py"
  },
  "language_info": {
   "codemirror_mode": {
    "name": "ipython",
    "version": 3
   },
   "file_extension": ".py",
   "mimetype": "text/x-python",
   "name": "python",
   "nbconvert_exporter": "python",
   "pygments_lexer": "ipython3",
   "version": "3.12.7"
  }
 },
 "nbformat": 4,
 "nbformat_minor": 5
}
